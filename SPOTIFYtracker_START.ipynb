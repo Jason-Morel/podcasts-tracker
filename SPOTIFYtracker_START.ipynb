{
 "cells": [
  {
   "cell_type": "code",
   "execution_count": 4,
   "id": "c660e88e",
   "metadata": {},
   "outputs": [
    {
     "name": "stderr",
     "output_type": "stream",
     "text": [
      "HTTP Error for GET to https://api.spotify.com/v1/me/player with Params: {'market': None, 'additional_types': None} returned 401 due to Permissions missing\n"
     ]
    },
    {
     "ename": "SpotifyException",
     "evalue": "http status: 401, code:-1 - https://api.spotify.com/v1/me/player:\n Permissions missing, reason: None",
     "output_type": "error",
     "traceback": [
      "\u001b[0;31m---------------------------------------------------------------------------\u001b[0m",
      "\u001b[0;31mHTTPError\u001b[0m                                 Traceback (most recent call last)",
      "\u001b[0;32m~/opt/anaconda3/lib/python3.9/site-packages/spotipy/client.py\u001b[0m in \u001b[0;36m_internal_call\u001b[0;34m(self, method, url, payload, params)\u001b[0m\n\u001b[1;32m    268\u001b[0m \u001b[0;34m\u001b[0m\u001b[0m\n\u001b[0;32m--> 269\u001b[0;31m             \u001b[0mresponse\u001b[0m\u001b[0;34m.\u001b[0m\u001b[0mraise_for_status\u001b[0m\u001b[0;34m(\u001b[0m\u001b[0;34m)\u001b[0m\u001b[0;34m\u001b[0m\u001b[0;34m\u001b[0m\u001b[0m\n\u001b[0m\u001b[1;32m    270\u001b[0m             \u001b[0mresults\u001b[0m \u001b[0;34m=\u001b[0m \u001b[0mresponse\u001b[0m\u001b[0;34m.\u001b[0m\u001b[0mjson\u001b[0m\u001b[0;34m(\u001b[0m\u001b[0;34m)\u001b[0m\u001b[0;34m\u001b[0m\u001b[0;34m\u001b[0m\u001b[0m\n",
      "\u001b[0;32m~/opt/anaconda3/lib/python3.9/site-packages/requests/models.py\u001b[0m in \u001b[0;36mraise_for_status\u001b[0;34m(self)\u001b[0m\n\u001b[1;32m   1020\u001b[0m         \u001b[0;32mif\u001b[0m \u001b[0mhttp_error_msg\u001b[0m\u001b[0;34m:\u001b[0m\u001b[0;34m\u001b[0m\u001b[0;34m\u001b[0m\u001b[0m\n\u001b[0;32m-> 1021\u001b[0;31m             \u001b[0;32mraise\u001b[0m \u001b[0mHTTPError\u001b[0m\u001b[0;34m(\u001b[0m\u001b[0mhttp_error_msg\u001b[0m\u001b[0;34m,\u001b[0m \u001b[0mresponse\u001b[0m\u001b[0;34m=\u001b[0m\u001b[0mself\u001b[0m\u001b[0;34m)\u001b[0m\u001b[0;34m\u001b[0m\u001b[0;34m\u001b[0m\u001b[0m\n\u001b[0m\u001b[1;32m   1022\u001b[0m \u001b[0;34m\u001b[0m\u001b[0m\n",
      "\u001b[0;31mHTTPError\u001b[0m: 401 Client Error: Unauthorized for url: https://api.spotify.com/v1/me/player",
      "\nDuring handling of the above exception, another exception occurred:\n",
      "\u001b[0;31mSpotifyException\u001b[0m                          Traceback (most recent call last)",
      "\u001b[0;32m/var/folders/15/4wr2j52s1yj3v98w72vfzhf80000gn/T/ipykernel_71570/2949527432.py\u001b[0m in \u001b[0;36m<module>\u001b[0;34m\u001b[0m\n\u001b[1;32m     21\u001b[0m \u001b[0;32mif\u001b[0m \u001b[0mtoken\u001b[0m\u001b[0;34m:\u001b[0m\u001b[0;34m\u001b[0m\u001b[0;34m\u001b[0m\u001b[0m\n\u001b[1;32m     22\u001b[0m     \u001b[0msp\u001b[0m \u001b[0;34m=\u001b[0m \u001b[0mspotipy\u001b[0m\u001b[0;34m.\u001b[0m\u001b[0mSpotify\u001b[0m\u001b[0;34m(\u001b[0m\u001b[0mauth\u001b[0m\u001b[0;34m=\u001b[0m\u001b[0mtoken\u001b[0m\u001b[0;34m)\u001b[0m \u001b[0;31m# PAS FORCÉMENT COMPRIS LE CODE MAIS C'ÉTAIT DANS LE TUTO\u001b[0m\u001b[0;34m\u001b[0m\u001b[0;34m\u001b[0m\u001b[0m\n\u001b[0;32m---> 23\u001b[0;31m     \u001b[0mresults\u001b[0m \u001b[0;34m=\u001b[0m \u001b[0msp\u001b[0m\u001b[0;34m.\u001b[0m\u001b[0mcurrent_playback\u001b[0m\u001b[0;34m(\u001b[0m\u001b[0;34m)\u001b[0m\u001b[0;34m\u001b[0m\u001b[0;34m\u001b[0m\u001b[0m\n\u001b[0m\u001b[1;32m     24\u001b[0m     \u001b[0mprint\u001b[0m\u001b[0;34m(\u001b[0m\u001b[0mresults\u001b[0m\u001b[0;34m)\u001b[0m\u001b[0;34m\u001b[0m\u001b[0;34m\u001b[0m\u001b[0m\n\u001b[1;32m     25\u001b[0m \u001b[0;32melse\u001b[0m\u001b[0;34m:\u001b[0m\u001b[0;34m\u001b[0m\u001b[0;34m\u001b[0m\u001b[0m\n",
      "\u001b[0;32m~/opt/anaconda3/lib/python3.9/site-packages/spotipy/client.py\u001b[0m in \u001b[0;36mcurrent_playback\u001b[0;34m(self, market, additional_types)\u001b[0m\n\u001b[1;32m   1753\u001b[0m                 \u001b[0;34m-\u001b[0m \u001b[0madditional_types\u001b[0m \u001b[0;34m-\u001b[0m\u001b[0;31m \u001b[0m\u001b[0;31m`\u001b[0m\u001b[0mepisode\u001b[0m\u001b[0;31m`\u001b[0m \u001b[0mto\u001b[0m \u001b[0mget\u001b[0m \u001b[0mpodcast\u001b[0m \u001b[0mtrack\u001b[0m \u001b[0minformation\u001b[0m\u001b[0;34m\u001b[0m\u001b[0;34m\u001b[0m\u001b[0m\n\u001b[1;32m   1754\u001b[0m         \"\"\"\n\u001b[0;32m-> 1755\u001b[0;31m         \u001b[0;32mreturn\u001b[0m \u001b[0mself\u001b[0m\u001b[0;34m.\u001b[0m\u001b[0m_get\u001b[0m\u001b[0;34m(\u001b[0m\u001b[0;34m\"me/player\"\u001b[0m\u001b[0;34m,\u001b[0m \u001b[0mmarket\u001b[0m\u001b[0;34m=\u001b[0m\u001b[0mmarket\u001b[0m\u001b[0;34m,\u001b[0m \u001b[0madditional_types\u001b[0m\u001b[0;34m=\u001b[0m\u001b[0madditional_types\u001b[0m\u001b[0;34m)\u001b[0m\u001b[0;34m\u001b[0m\u001b[0;34m\u001b[0m\u001b[0m\n\u001b[0m\u001b[1;32m   1756\u001b[0m \u001b[0;34m\u001b[0m\u001b[0m\n\u001b[1;32m   1757\u001b[0m     \u001b[0;32mdef\u001b[0m \u001b[0mcurrently_playing\u001b[0m\u001b[0;34m(\u001b[0m\u001b[0mself\u001b[0m\u001b[0;34m,\u001b[0m \u001b[0mmarket\u001b[0m\u001b[0;34m=\u001b[0m\u001b[0;32mNone\u001b[0m\u001b[0;34m,\u001b[0m \u001b[0madditional_types\u001b[0m\u001b[0;34m=\u001b[0m\u001b[0;32mNone\u001b[0m\u001b[0;34m)\u001b[0m\u001b[0;34m:\u001b[0m\u001b[0;34m\u001b[0m\u001b[0;34m\u001b[0m\u001b[0m\n",
      "\u001b[0;32m~/opt/anaconda3/lib/python3.9/site-packages/spotipy/client.py\u001b[0m in \u001b[0;36m_get\u001b[0;34m(self, url, args, payload, **kwargs)\u001b[0m\n\u001b[1;32m    319\u001b[0m             \u001b[0mkwargs\u001b[0m\u001b[0;34m.\u001b[0m\u001b[0mupdate\u001b[0m\u001b[0;34m(\u001b[0m\u001b[0margs\u001b[0m\u001b[0;34m)\u001b[0m\u001b[0;34m\u001b[0m\u001b[0;34m\u001b[0m\u001b[0m\n\u001b[1;32m    320\u001b[0m \u001b[0;34m\u001b[0m\u001b[0m\n\u001b[0;32m--> 321\u001b[0;31m         \u001b[0;32mreturn\u001b[0m \u001b[0mself\u001b[0m\u001b[0;34m.\u001b[0m\u001b[0m_internal_call\u001b[0m\u001b[0;34m(\u001b[0m\u001b[0;34m\"GET\"\u001b[0m\u001b[0;34m,\u001b[0m \u001b[0murl\u001b[0m\u001b[0;34m,\u001b[0m \u001b[0mpayload\u001b[0m\u001b[0;34m,\u001b[0m \u001b[0mkwargs\u001b[0m\u001b[0;34m)\u001b[0m\u001b[0;34m\u001b[0m\u001b[0;34m\u001b[0m\u001b[0m\n\u001b[0m\u001b[1;32m    322\u001b[0m \u001b[0;34m\u001b[0m\u001b[0m\n\u001b[1;32m    323\u001b[0m     \u001b[0;32mdef\u001b[0m \u001b[0m_post\u001b[0m\u001b[0;34m(\u001b[0m\u001b[0mself\u001b[0m\u001b[0;34m,\u001b[0m \u001b[0murl\u001b[0m\u001b[0;34m,\u001b[0m \u001b[0margs\u001b[0m\u001b[0;34m=\u001b[0m\u001b[0;32mNone\u001b[0m\u001b[0;34m,\u001b[0m \u001b[0mpayload\u001b[0m\u001b[0;34m=\u001b[0m\u001b[0;32mNone\u001b[0m\u001b[0;34m,\u001b[0m \u001b[0;34m**\u001b[0m\u001b[0mkwargs\u001b[0m\u001b[0;34m)\u001b[0m\u001b[0;34m:\u001b[0m\u001b[0;34m\u001b[0m\u001b[0;34m\u001b[0m\u001b[0m\n",
      "\u001b[0;32m~/opt/anaconda3/lib/python3.9/site-packages/spotipy/client.py\u001b[0m in \u001b[0;36m_internal_call\u001b[0;34m(self, method, url, payload, params)\u001b[0m\n\u001b[1;32m    289\u001b[0m             )\n\u001b[1;32m    290\u001b[0m \u001b[0;34m\u001b[0m\u001b[0m\n\u001b[0;32m--> 291\u001b[0;31m             raise SpotifyException(\n\u001b[0m\u001b[1;32m    292\u001b[0m                 \u001b[0mresponse\u001b[0m\u001b[0;34m.\u001b[0m\u001b[0mstatus_code\u001b[0m\u001b[0;34m,\u001b[0m\u001b[0;34m\u001b[0m\u001b[0;34m\u001b[0m\u001b[0m\n\u001b[1;32m    293\u001b[0m                 \u001b[0;34m-\u001b[0m\u001b[0;36m1\u001b[0m\u001b[0;34m,\u001b[0m\u001b[0;34m\u001b[0m\u001b[0;34m\u001b[0m\u001b[0m\n",
      "\u001b[0;31mSpotifyException\u001b[0m: http status: 401, code:-1 - https://api.spotify.com/v1/me/player:\n Permissions missing, reason: None"
     ]
    }
   ],
   "source": [
    "import os\n",
    "import spotipy\n",
    "import spotipy.util as util\n",
    "import sys\n",
    "\n",
    "# AUTHENTIFICATION \n",
    "\n",
    "os.environ[\"SPOTIPY_CLIENT_ID\"] = \"e48f42372a074a25b7a0d25da48439d6\" # ID DE NOTRE SPOTIFY DEVELOPPER\n",
    "os.environ[\"SPOTIPY_CLIENT_SECRET\"] = \"90eb460ff94847998926f6d380532f59\" # SECRET DU SPOTIfy DEVELOPPER\n",
    "\n",
    "username = \"31aon4o2j7wikppjnfxfvpvptjtu?si=a9a987029b674187\" # USERNAME DANS LE LIEN DE NOTRE COMPTE SPOTIFY\n",
    "scope = \"user-library-read\"\n",
    "redirect_uri = \"https://github.com/LaDjazzz/podcasts-tracker\" # URI BASIQUE POUR REDIRIGER L'EXÉCUTION\n",
    "token = util.prompt_for_user_token(username, scope, redirect_uri=redirect_uri)\n",
    "\n",
    "os.environ[\"SPOTIPY_REDIRECT_URI\"] = \"https://github.com/LaDjazzz/podcasts-tracker\"\n",
    "token = util.prompt_for_user_token(username, scope)\n",
    "\n",
    "token = util.prompt_for_user_token(username, scope)\n",
    "\n",
    "if token:\n",
    "    sp = spotipy.Spotify(auth=token) # PAS FORCÉMENT COMPRIS LE CODE MAIS C'ÉTAIT DANS LE TUTO\n",
    "    results = sp.current_playback()\n",
    "    print(results)\n",
    "else:\n",
    "    print(\"Can't get token for\", username)"
   ]
  },
  {
   "cell_type": "code",
   "execution_count": 5,
   "id": "e220b92c",
   "metadata": {},
   "outputs": [
    {
     "name": "stdout",
     "output_type": "stream",
     "text": [
      "Quel est le temps d'écoute que vous souhaitez ?\n",
      "1. Moins de 5 minutes\n",
      "2. De 5 à 10 minutes\n",
      "3. De 10 à 15 minutes\n",
      "4. De 15 à 20 minutes\n",
      "5. De 20 à 30 minutes\n",
      "6. De 30 à 45 minutes\n",
      "7. De 45 minutes à 1 heure\n",
      "8. Plus d'une heure\n",
      "Entrez le numéro correspondant à votre choix : 2\n"
     ]
    }
   ],
   "source": [
    "# PREMIER TEST\n",
    "# code très redondant mais ce n'est qu'un premier jet\n",
    "\n",
    "    # Demande du temps d'écoute souhaité\n",
    "print(\"Quel est le temps d'écoute que vous souhaitez ?\")\n",
    "print(\"1. Moins de 5 minutes\")\n",
    "print(\"2. De 5 à 10 minutes\")\n",
    "print(\"3. De 10 à 15 minutes\")\n",
    "print(\"4. De 15 à 20 minutes\")\n",
    "print(\"5. De 20 à 30 minutes\")\n",
    "print(\"6. De 30 à 45 minutes\")\n",
    "print(\"7. De 45 minutes à 1 heure\")\n",
    "print(\"8. Plus d'une heure\")\n",
    "time_choice = int(input(\"Entrez le numéro correspondant à votre choix : \"))\n",
    "\n",
    "if time_choice == 1:\n",
    "    min_duration = 0\n",
    "    max_duration = 300\n",
    "elif time_choice == 2:\n",
    "    min_duration = 300\n",
    "    max_duration = 600\n",
    "elif time_choice == 3:\n",
    "    min_duration = 600\n",
    "    max_duration = 900\n",
    "elif time_choice == 4:\n",
    "    min_duration = 900\n",
    "    max_duration = 1200\n",
    "elif time_choice == 5:\n",
    "    min_duration = 1200\n",
    "    max_duration = 1800\n",
    "elif time_choice == 6:\n",
    "    min_duration = 1800\n",
    "    max_duration = 2700\n",
    "elif time_choice == 7:\n",
    "    min_duration = 2700\n",
    "    max_duration = 3600\n",
    "elif time_choice == 8:\n",
    "    min_duration = 3600\n",
    "    max_duration = 10**10"
   ]
  },
  {
   "cell_type": "code",
   "execution_count": 6,
   "id": "71e80cbb",
   "metadata": {},
   "outputs": [
    {
     "name": "stdout",
     "output_type": "stream",
     "text": [
      "Quelle catégorie de podcast préférez-vous ?\n",
      "1. Top Lists\n",
      "2. Summer\n",
      "3. Hip-Hop\n",
      "4. Pop\n",
      "5. French Variety\n",
      "6. Mood\n",
      "7. Dance/Electronic\n",
      "8. Rock\n",
      "9. Latin\n",
      "10. Party\n",
      "Entrez le numéro correspondant à votre choix : 2\n"
     ]
    }
   ],
   "source": [
    "results = sp.categories(limit=10)\n",
    "categories = results['categories']['items']\n",
    "\n",
    "print(\"Quelle catégorie de podcast préférez-vous ?\")\n",
    "for i, category in enumerate(categories): \n",
    "    print(f\"{i + 1}. {category['name']}\")\n",
    "\n",
    "category_index = int(input(\"Entrez le numéro correspondant à votre choix : \"))"
   ]
  },
  {
   "cell_type": "code",
   "execution_count": null,
   "id": "7f439ca0",
   "metadata": {},
   "outputs": [],
   "source": []
  }
 ],
 "metadata": {
  "kernelspec": {
   "display_name": "Python 3 (ipykernel)",
   "language": "python",
   "name": "python3"
  },
  "language_info": {
   "codemirror_mode": {
    "name": "ipython",
    "version": 3
   },
   "file_extension": ".py",
   "mimetype": "text/x-python",
   "name": "python",
   "nbconvert_exporter": "python",
   "pygments_lexer": "ipython3",
   "version": "3.9.13"
  }
 },
 "nbformat": 4,
 "nbformat_minor": 5
}
