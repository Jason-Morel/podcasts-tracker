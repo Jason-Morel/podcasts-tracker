{
 "cells": [
  {
   "cell_type": "code",
   "execution_count": 2,
   "id": "e0545e56",
   "metadata": {},
   "outputs": [
    {
     "name": "stdout",
     "output_type": "stream",
     "text": [
      "Collecting spotipy\n",
      "  Downloading spotipy-2.22.1-py3-none-any.whl (28 kB)\n",
      "Requirement already satisfied: six>=1.15.0 in c:\\users\\jason\\anaconda3\\lib\\site-packages (from spotipy) (1.16.0)\n",
      "Collecting redis>=3.5.3\n",
      "  Downloading redis-4.5.1-py3-none-any.whl (238 kB)\n",
      "     ------------------------------------- 238.5/238.5 kB 83.0 kB/s eta 0:00:00\n",
      "Requirement already satisfied: requests>=2.25.0 in c:\\users\\jason\\anaconda3\\lib\\site-packages (from spotipy) (2.28.1)\n",
      "Requirement already satisfied: urllib3>=1.26.0 in c:\\users\\jason\\anaconda3\\lib\\site-packages (from spotipy) (1.26.11)\n",
      "Collecting async-timeout>=4.0.2\n",
      "  Downloading async_timeout-4.0.2-py3-none-any.whl (5.8 kB)\n",
      "Requirement already satisfied: charset-normalizer<3,>=2 in c:\\users\\jason\\anaconda3\\lib\\site-packages (from requests>=2.25.0->spotipy) (2.0.4)\n",
      "Requirement already satisfied: idna<4,>=2.5 in c:\\users\\jason\\anaconda3\\lib\\site-packages (from requests>=2.25.0->spotipy) (3.3)\n",
      "Requirement already satisfied: certifi>=2017.4.17 in c:\\users\\jason\\anaconda3\\lib\\site-packages (from requests>=2.25.0->spotipy) (2022.9.14)\n",
      "Installing collected packages: async-timeout, redis, spotipy\n",
      "Successfully installed async-timeout-4.0.2 redis-4.5.1 spotipy-2.22.1\n",
      "Note: you may need to restart the kernel to use updated packages.\n"
     ]
    }
   ],
   "source": [
    "pip install spotipy --upgrade"
   ]
  },
  {
   "cell_type": "code",
   "execution_count": 3,
   "id": "d8fe0ee1",
   "metadata": {},
   "outputs": [],
   "source": [
    "import os\n",
    "import spotipy\n",
    "import spotipy.util as util\n",
    "import sys"
   ]
  },
  {
   "cell_type": "code",
   "execution_count": null,
   "id": "315dcca8",
   "metadata": {},
   "outputs": [],
   "source": [
    "# AUTHENTIFICATION \n",
    "\n",
    "os.environ[\"SPOTIPY_CLIENT_ID\"] = \"e48f42372a074a25b7a0d25da48439d6\" # ID DE NOTRE SPOTIFY DEVELOPPER\n",
    "os.environ[\"SPOTIPY_CLIENT_SECRET\"] = \"90eb460ff94847998926f6d380532f59\" # SECRET DU SPOTIFY DEVELOPPER\n",
    "\n",
    "username = \"31aon4o2j7wikppjnfxfvpvptjtu?si=a9a987029b674187\" # USERNAME DANS LE LIEN DE NOTRE COMPTE SPOTIFY\n",
    "scope = \"user-library-read\"\n",
    "redirect_uri = \"https://github.com/LaDjazzz/podcasts-tracker\" # URI BASIQUE POUR REDIRIGER L'EXÉCUTION\n",
    "token = util.prompt_for_user_token(username, scope, redirect_uri=redirect_uri)\n",
    "\n",
    "os.environ[\"SPOTIPY_REDIRECT_URI\"] = \"https://github.com/LaDjazzz/podcasts-tracker\"\n",
    "token = util.prompt_for_user_token(username, scope)\n",
    "\n",
    "token = util.prompt_for_user_token(username, scope)\n",
    "\n",
    "if token:\n",
    "    sp = spotipy.Spotify(auth=token) # PAS FORCÉMENT COMPRIS LE CODE MAIS C'ÉTAIT DANS LE TUTO\n",
    "    results = sp.current_playback()\n",
    "    print(results)\n",
    "else:\n",
    "    print(\"Can't get token for\", username)"
   ]
  },
  {
   "cell_type": "code",
   "execution_count": null,
   "id": "7f2753d6",
   "metadata": {},
   "outputs": [],
   "source": [
    "# PREMIER TEST\n",
    "# code très redondant mais ce n'est qu'un premier jet\n",
    "\n",
    "    # Demande du temps d'écoute souhaité\n",
    "    print(\"Quel est le temps d'écoute que vous souhaitez ?\")\n",
    "    print(\"1. Moins de 5 minutes\")\n",
    "    print(\"2. De 5 à 10 minutes\")\n",
    "    print(\"3. De 10 à 15 minutes\")\n",
    "    print(\"4. De 15 à 20 minutes\")\n",
    "    print(\"5. De 20 à 30 minutes\")\n",
    "    print(\"6. De 30 à 45 minutes\")\n",
    "    print(\"7. De 45 minutes à 1 heure\")\n",
    "    print(\"8. Plus d'une heure\")\n",
    "\n",
    "    time_choice = int(input(\"Entrez le numéro correspondant à votre choix : \"))\n",
    "\n",
    "    if time_choice == 1:\n",
    "        min_duration = 0\n",
    "        max_duration = 300\n",
    "    elif time_choice == 2:\n",
    "        min_duration = 300\n",
    "        max_duration = 600\n",
    "    elif time_choice == 3:\n",
    "        min_duration = 600\n",
    "        max_duration = 900\n",
    "    elif time_choice == 4:\n",
    "        min_duration = 900\n",
    "        max_duration = 1200\n",
    "    elif time_choice == 5:\n",
    "        min_duration = 1200\n",
    "        max_duration = 1800\n",
    "    elif time_choice == 6:\n",
    "        min_duration = 1800\n",
    "        max_duration = 2700\n",
    "    elif time_choice == 7:\n",
    "        min_duration = 2700\n",
    "        max_duration = 3600\n",
    "    elif time_choice == 8:\n",
    "        min_duration = 3600\n",
    "        max_duration = 10**10\n",
    "\n",
    "    # Demande de la catégorie souhaitée\n",
    "    results = sp.categories(limit=10)\n",
    "    categories = results['categories']['items']\n",
    "    # ici la variable \"results\" est la réponse renvoyée par l'API Spotify quand on fait une demande pour récupérer les catégories.\n",
    "    # Le dictionnaire \"results\" contient plein d'infos et nous on garde la clé \"categories\" et la sous-clé \"items\".\n",
    "    # Le code stocke la liste des catégories dans la variable \"categories\".\n",
    "\n",
    "    print(\"Quelle catégorie de podcast préférez-vous ?\")\n",
    "    for i, category in enumerate(categories): #fonction \"enumerate\" : renvoie à chaque tour un compteur et un élément de la liste\n",
    "        print(f\"{i + 1}. {category['name']}\")\n",
    "    #affiche à chaque tour l'index de la catégorie + son nom, qui est accessible via la clé \"name\" du dictionnaire \"category\". \n",
    "\n",
    "    category_index = int(input(\"Entrez le numéro correspondant à votre choix : \"))\n",
    "\n",
    "# problème : cela propose les catégories de musiques mais pas de podcast"
   ]
  }
 ],
 "metadata": {
  "kernelspec": {
   "display_name": "Python 3 (ipykernel)",
   "language": "python",
   "name": "python3"
  },
  "language_info": {
   "codemirror_mode": {
    "name": "ipython",
    "version": 3
   },
   "file_extension": ".py",
   "mimetype": "text/x-python",
   "name": "python",
   "nbconvert_exporter": "python",
   "pygments_lexer": "ipython3",
   "version": "3.9.13"
  }
 },
 "nbformat": 4,
 "nbformat_minor": 5
}
