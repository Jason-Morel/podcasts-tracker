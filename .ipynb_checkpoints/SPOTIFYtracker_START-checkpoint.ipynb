{
 "cells": [
  {
   "cell_type": "code",
   "execution_count": 1,
   "id": "c660e88e",
   "metadata": {},
   "outputs": [
    {
     "name": "stderr",
     "output_type": "stream",
     "text": [
      "Couldn't read cache at: .cache-31aon4o2j7wikppjnfxfvpvptjtu?si=a9a987029b674187\n"
     ]
    },
    {
     "name": "stdout",
     "output_type": "stream",
     "text": [
      "Enter the URL you were redirected to: https://github.com/LaDjazzz/podcasts-tracker?code=AQDd9mTRPwBhbhJ0um2yGeRJDSClkz0bYA2PHIFC5fUXOQm3QE2rW8bvZM2XRM-YFCBtBwCMe-RVjsAEwzba-QQvrFWhk20JZ7tbMxHDrkEJzb7PMB5MUGQu9lv5AMLa1hjTtfoDVCakVFBAo5NelrS2BajJa2rYsT05eKKV1qm7SV3vP2tB0DlrUn8pdMu0j_DQ7fR7KQaGOvxjyvexZct7oQ\n"
     ]
    },
    {
     "name": "stderr",
     "output_type": "stream",
     "text": [
      "Couldn't read cache at: .cache-31aon4o2j7wikppjnfxfvpvptjtu?si=a9a987029b674187\n",
      "Couldn't write token to cache at: .cache-31aon4o2j7wikppjnfxfvpvptjtu?si=a9a987029b674187\n",
      "Couldn't read cache at: .cache-31aon4o2j7wikppjnfxfvpvptjtu?si=a9a987029b674187\n"
     ]
    },
    {
     "name": "stdout",
     "output_type": "stream",
     "text": [
      "Enter the URL you were redirected to: https://github.com/LaDjazzz/podcasts-tracker?code=AQDd9mTRPwBhbhJ0um2yGeRJDSClkz0bYA2PHIFC5fUXOQm3QE2rW8bvZM2XRM-YFCBtBwCMe-RVjsAEwzba-QQvrFWhk20JZ7tbMxHDrkEJzb7PMB5MUGQu9lv5AMLa1hjTtfoDVCakVFBAo5NelrS2BajJa2rYsT05eKKV1qm7SV3vP2tB0DlrUn8pdMu0j_DQ7fR7KQaGOvxjyvexZct7oQ\n"
     ]
    },
    {
     "name": "stderr",
     "output_type": "stream",
     "text": [
      "Couldn't read cache at: .cache-31aon4o2j7wikppjnfxfvpvptjtu?si=a9a987029b674187\n"
     ]
    },
    {
     "ename": "SpotifyOauthError",
     "evalue": "error: invalid_grant, error_description: Invalid authorization code",
     "output_type": "error",
     "traceback": [
      "\u001b[1;31m---------------------------------------------------------------------------\u001b[0m",
      "\u001b[1;31mHTTPError\u001b[0m                                 Traceback (most recent call last)",
      "\u001b[1;32m~\\anaconda3\\lib\\site-packages\\spotipy\\oauth2.py\u001b[0m in \u001b[0;36mget_access_token\u001b[1;34m(self, code, as_dict, check_cache)\u001b[0m\n\u001b[0;32m    558\u001b[0m             )\n\u001b[1;32m--> 559\u001b[1;33m             \u001b[0mresponse\u001b[0m\u001b[1;33m.\u001b[0m\u001b[0mraise_for_status\u001b[0m\u001b[1;33m(\u001b[0m\u001b[1;33m)\u001b[0m\u001b[1;33m\u001b[0m\u001b[1;33m\u001b[0m\u001b[0m\n\u001b[0m\u001b[0;32m    560\u001b[0m             \u001b[0mtoken_info\u001b[0m \u001b[1;33m=\u001b[0m \u001b[0mresponse\u001b[0m\u001b[1;33m.\u001b[0m\u001b[0mjson\u001b[0m\u001b[1;33m(\u001b[0m\u001b[1;33m)\u001b[0m\u001b[1;33m\u001b[0m\u001b[1;33m\u001b[0m\u001b[0m\n",
      "\u001b[1;32m~\\anaconda3\\lib\\site-packages\\requests\\models.py\u001b[0m in \u001b[0;36mraise_for_status\u001b[1;34m(self)\u001b[0m\n\u001b[0;32m   1020\u001b[0m         \u001b[1;32mif\u001b[0m \u001b[0mhttp_error_msg\u001b[0m\u001b[1;33m:\u001b[0m\u001b[1;33m\u001b[0m\u001b[1;33m\u001b[0m\u001b[0m\n\u001b[1;32m-> 1021\u001b[1;33m             \u001b[1;32mraise\u001b[0m \u001b[0mHTTPError\u001b[0m\u001b[1;33m(\u001b[0m\u001b[0mhttp_error_msg\u001b[0m\u001b[1;33m,\u001b[0m \u001b[0mresponse\u001b[0m\u001b[1;33m=\u001b[0m\u001b[0mself\u001b[0m\u001b[1;33m)\u001b[0m\u001b[1;33m\u001b[0m\u001b[1;33m\u001b[0m\u001b[0m\n\u001b[0m\u001b[0;32m   1022\u001b[0m \u001b[1;33m\u001b[0m\u001b[0m\n",
      "\u001b[1;31mHTTPError\u001b[0m: 400 Client Error: Bad Request for url: https://accounts.spotify.com/api/token",
      "\nDuring handling of the above exception, another exception occurred:\n",
      "\u001b[1;31mSpotifyOauthError\u001b[0m                         Traceback (most recent call last)",
      "\u001b[1;32m~\\AppData\\Local\\Temp\\ipykernel_218036\\2597871374.py\u001b[0m in \u001b[0;36m<module>\u001b[1;34m\u001b[0m\n\u001b[0;32m     15\u001b[0m \u001b[1;33m\u001b[0m\u001b[0m\n\u001b[0;32m     16\u001b[0m \u001b[0mos\u001b[0m\u001b[1;33m.\u001b[0m\u001b[0menviron\u001b[0m\u001b[1;33m[\u001b[0m\u001b[1;34m\"SPOTIPY_REDIRECT_URI\"\u001b[0m\u001b[1;33m]\u001b[0m \u001b[1;33m=\u001b[0m \u001b[1;34m\"https://github.com/LaDjazzz/podcasts-tracker\"\u001b[0m\u001b[1;33m\u001b[0m\u001b[1;33m\u001b[0m\u001b[0m\n\u001b[1;32m---> 17\u001b[1;33m \u001b[0mtoken\u001b[0m \u001b[1;33m=\u001b[0m \u001b[0mutil\u001b[0m\u001b[1;33m.\u001b[0m\u001b[0mprompt_for_user_token\u001b[0m\u001b[1;33m(\u001b[0m\u001b[0musername\u001b[0m\u001b[1;33m,\u001b[0m \u001b[0mscope\u001b[0m\u001b[1;33m)\u001b[0m\u001b[1;33m\u001b[0m\u001b[1;33m\u001b[0m\u001b[0m\n\u001b[0m\u001b[0;32m     18\u001b[0m \u001b[1;33m\u001b[0m\u001b[0m\n\u001b[0;32m     19\u001b[0m \u001b[0mtoken\u001b[0m \u001b[1;33m=\u001b[0m \u001b[0mutil\u001b[0m\u001b[1;33m.\u001b[0m\u001b[0mprompt_for_user_token\u001b[0m\u001b[1;33m(\u001b[0m\u001b[0musername\u001b[0m\u001b[1;33m,\u001b[0m \u001b[0mscope\u001b[0m\u001b[1;33m)\u001b[0m\u001b[1;33m\u001b[0m\u001b[1;33m\u001b[0m\u001b[0m\n",
      "\u001b[1;32m~\\anaconda3\\lib\\site-packages\\spotipy\\util.py\u001b[0m in \u001b[0;36mprompt_for_user_token\u001b[1;34m(username, scope, client_id, client_secret, redirect_uri, cache_path, oauth_manager, show_dialog)\u001b[0m\n\u001b[0;32m     98\u001b[0m     \u001b[1;32mif\u001b[0m \u001b[1;32mnot\u001b[0m \u001b[0mtoken_info\u001b[0m\u001b[1;33m:\u001b[0m\u001b[1;33m\u001b[0m\u001b[1;33m\u001b[0m\u001b[0m\n\u001b[0;32m     99\u001b[0m         \u001b[0mcode\u001b[0m \u001b[1;33m=\u001b[0m \u001b[0msp_oauth\u001b[0m\u001b[1;33m.\u001b[0m\u001b[0mget_auth_response\u001b[0m\u001b[1;33m(\u001b[0m\u001b[1;33m)\u001b[0m\u001b[1;33m\u001b[0m\u001b[1;33m\u001b[0m\u001b[0m\n\u001b[1;32m--> 100\u001b[1;33m         \u001b[0mtoken\u001b[0m \u001b[1;33m=\u001b[0m \u001b[0msp_oauth\u001b[0m\u001b[1;33m.\u001b[0m\u001b[0mget_access_token\u001b[0m\u001b[1;33m(\u001b[0m\u001b[0mcode\u001b[0m\u001b[1;33m,\u001b[0m \u001b[0mas_dict\u001b[0m\u001b[1;33m=\u001b[0m\u001b[1;32mFalse\u001b[0m\u001b[1;33m)\u001b[0m\u001b[1;33m\u001b[0m\u001b[1;33m\u001b[0m\u001b[0m\n\u001b[0m\u001b[0;32m    101\u001b[0m     \u001b[1;32melse\u001b[0m\u001b[1;33m:\u001b[0m\u001b[1;33m\u001b[0m\u001b[1;33m\u001b[0m\u001b[0m\n\u001b[0;32m    102\u001b[0m         \u001b[1;32mreturn\u001b[0m \u001b[0mtoken_info\u001b[0m\u001b[1;33m[\u001b[0m\u001b[1;34m\"access_token\"\u001b[0m\u001b[1;33m]\u001b[0m\u001b[1;33m\u001b[0m\u001b[1;33m\u001b[0m\u001b[0m\n",
      "\u001b[1;32m~\\anaconda3\\lib\\site-packages\\spotipy\\oauth2.py\u001b[0m in \u001b[0;36mget_access_token\u001b[1;34m(self, code, as_dict, check_cache)\u001b[0m\n\u001b[0;32m    563\u001b[0m             \u001b[1;32mreturn\u001b[0m \u001b[0mtoken_info\u001b[0m \u001b[1;32mif\u001b[0m \u001b[0mas_dict\u001b[0m \u001b[1;32melse\u001b[0m \u001b[0mtoken_info\u001b[0m\u001b[1;33m[\u001b[0m\u001b[1;34m\"access_token\"\u001b[0m\u001b[1;33m]\u001b[0m\u001b[1;33m\u001b[0m\u001b[1;33m\u001b[0m\u001b[0m\n\u001b[0;32m    564\u001b[0m         \u001b[1;32mexcept\u001b[0m \u001b[0mrequests\u001b[0m\u001b[1;33m.\u001b[0m\u001b[0mexceptions\u001b[0m\u001b[1;33m.\u001b[0m\u001b[0mHTTPError\u001b[0m \u001b[1;32mas\u001b[0m \u001b[0mhttp_error\u001b[0m\u001b[1;33m:\u001b[0m\u001b[1;33m\u001b[0m\u001b[1;33m\u001b[0m\u001b[0m\n\u001b[1;32m--> 565\u001b[1;33m             \u001b[0mself\u001b[0m\u001b[1;33m.\u001b[0m\u001b[0m_handle_oauth_error\u001b[0m\u001b[1;33m(\u001b[0m\u001b[0mhttp_error\u001b[0m\u001b[1;33m)\u001b[0m\u001b[1;33m\u001b[0m\u001b[1;33m\u001b[0m\u001b[0m\n\u001b[0m\u001b[0;32m    566\u001b[0m \u001b[1;33m\u001b[0m\u001b[0m\n\u001b[0;32m    567\u001b[0m     \u001b[1;32mdef\u001b[0m \u001b[0mrefresh_access_token\u001b[0m\u001b[1;33m(\u001b[0m\u001b[0mself\u001b[0m\u001b[1;33m,\u001b[0m \u001b[0mrefresh_token\u001b[0m\u001b[1;33m)\u001b[0m\u001b[1;33m:\u001b[0m\u001b[1;33m\u001b[0m\u001b[1;33m\u001b[0m\u001b[0m\n",
      "\u001b[1;32m~\\anaconda3\\lib\\site-packages\\spotipy\\oauth2.py\u001b[0m in \u001b[0;36m_handle_oauth_error\u001b[1;34m(self, http_error)\u001b[0m\n\u001b[0;32m    144\u001b[0m             \u001b[0merror_description\u001b[0m \u001b[1;33m=\u001b[0m \u001b[1;32mNone\u001b[0m\u001b[1;33m\u001b[0m\u001b[1;33m\u001b[0m\u001b[0m\n\u001b[0;32m    145\u001b[0m \u001b[1;33m\u001b[0m\u001b[0m\n\u001b[1;32m--> 146\u001b[1;33m         raise SpotifyOauthError(\n\u001b[0m\u001b[0;32m    147\u001b[0m             'error: {0}, error_description: {1}'.format(\n\u001b[0;32m    148\u001b[0m                 \u001b[0merror\u001b[0m\u001b[1;33m,\u001b[0m \u001b[0merror_description\u001b[0m\u001b[1;33m\u001b[0m\u001b[1;33m\u001b[0m\u001b[0m\n",
      "\u001b[1;31mSpotifyOauthError\u001b[0m: error: invalid_grant, error_description: Invalid authorization code"
     ]
    }
   ],
   "source": [
    "import os\n",
    "import spotipy\n",
    "import spotipy.util as util\n",
    "import sys\n",
    "\n",
    "# AUTHENTIFICATION \n",
    "\n",
    "os.environ[\"SPOTIPY_CLIENT_ID\"] = \"e48f42372a074a25b7a0d25da48439d6\" # ID DE NOTRE SPOTIFY DEVELOPPER\n",
    "os.environ[\"SPOTIPY_CLIENT_SECRET\"] = \"90eb460ff94847998926f6d380532f59\" # SECRET DU SPOTIFY DEVELOPPER\n",
    "\n",
    "username = \"31aon4o2j7wikppjnfxfvpvptjtu?si=a9a987029b674187\" # USERNAME DANS LE LIEN DE NOTRE COMPTE SPOTIFY\n",
    "scope = \"user-library-read\"\n",
    "redirect_uri = \"https://github.com/LaDjazzz/podcasts-tracker\" # URI BASIQUE POUR REDIRIGER L'EXÉCUTION\n",
    "token = util.prompt_for_user_token(username, scope, redirect_uri=redirect_uri)\n",
    "\n",
    "os.environ[\"SPOTIPY_REDIRECT_URI\"] = \"https://github.com/LaDjazzz/podcasts-tracker\"\n",
    "token = util.prompt_for_user_token(username, scope)\n",
    "\n",
    "token = util.prompt_for_user_token(username, scope)\n",
    "\n",
    "if token:\n",
    "    sp = spotipy.Spotify(auth=token) # PAS FORCÉMENT COMPRIS LE CODE MAIS C'ÉTAIT DANS LE TUTO\n",
    "    results = sp.current_playback()\n",
    "    print(results)\n",
    "else:\n",
    "    print(\"Can't get token for\", username)"
   ]
  },
  {
   "cell_type": "code",
   "execution_count": 2,
   "id": "e220b92c",
   "metadata": {},
   "outputs": [
    {
     "name": "stdout",
     "output_type": "stream",
     "text": [
      "Quel est le temps d'écoute que vous souhaitez ?\n",
      "1. Moins de 5 minutes\n",
      "2. De 5 à 10 minutes\n",
      "3. De 10 à 15 minutes\n",
      "4. De 15 à 20 minutes\n",
      "5. De 20 à 30 minutes\n",
      "6. De 30 à 45 minutes\n",
      "7. De 45 minutes à 1 heure\n",
      "8. Plus d'une heure\n",
      "Entrez le numéro correspondant à votre choix : 3\n"
     ]
    }
   ],
   "source": [
    "# PREMIER TEST\n",
    "# code très redondant mais ce n'est qu'un premier jet\n",
    "\n",
    "    # Demande du temps d'écoute souhaité\n",
    "print(\"Quel est le temps d'écoute que vous souhaitez ?\")\n",
    "print(\"1. Moins de 5 minutes\")\n",
    "print(\"2. De 5 à 10 minutes\")\n",
    "print(\"3. De 10 à 15 minutes\")\n",
    "print(\"4. De 15 à 20 minutes\")\n",
    "print(\"5. De 20 à 30 minutes\")\n",
    "print(\"6. De 30 à 45 minutes\")\n",
    "print(\"7. De 45 minutes à 1 heure\")\n",
    "print(\"8. Plus d'une heure\")\n",
    "time_choice = int(input(\"Entrez le numéro correspondant à votre choix : \"))\n",
    "\n",
    "if time_choice == 1:\n",
    "    min_duration = 0\n",
    "    max_duration = 300\n",
    "elif time_choice == 2:\n",
    "    min_duration = 300\n",
    "    max_duration = 600\n",
    "elif time_choice == 3:\n",
    "    min_duration = 600\n",
    "    max_duration = 900\n",
    "elif time_choice == 4:\n",
    "    min_duration = 900\n",
    "    max_duration = 1200\n",
    "elif time_choice == 5:\n",
    "    min_duration = 1200\n",
    "    max_duration = 1800\n",
    "elif time_choice == 6:\n",
    "    min_duration = 1800\n",
    "    max_duration = 2700\n",
    "elif time_choice == 7:\n",
    "    min_duration = 2700\n",
    "    max_duration = 3600\n",
    "elif time_choice == 8:\n",
    "    min_duration = 3600\n",
    "    max_duration = 10**10"
   ]
  },
  {
   "cell_type": "code",
   "execution_count": 6,
   "id": "71e80cbb",
   "metadata": {},
   "outputs": [
    {
     "name": "stdout",
     "output_type": "stream",
     "text": [
      "Quel est le temps d'écoute que vous souhaitez ?\n",
      "1. Moins de 5 minutes\n",
      "2. De 5 à 10 minutes\n",
      "3. De 10 à 15 minutes\n",
      "4. De 15 à 20 minutes\n",
      "5. De 20 à 30 minutes\n",
      "6. De 30 à 45 minutes\n",
      "7. De 45 minutes à 1 heure\n",
      "8. Plus d'une heure\n",
      "Entrez le numéro correspondant à votre choix : 6\n",
      "Quelle catégorie de podcast préférez-vous ?\n",
      "1. Top Lists\n",
      "2. Summer\n",
      "3. Hip-Hop\n",
      "4. Pop\n",
      "5. French Pop\n",
      "6. Mood\n",
      "7. Dance/Electronic\n",
      "8. Rock\n",
      "9. Latin\n",
      "10. Party\n",
      "Entrez le numéro correspondant à votre choix : 2\n"
     ]
    }
   ],
   "source": [
    "    # Demande de la catégorie souhaitée\n",
    "results = sp.categories(limit=10)\n",
    "categories = results['categories']['items']\n",
    "    # ici la variable \"results\" est la réponse renvoyée par l'API Spotify quand on fait une demande pour récupérer les catégories.\n",
    "    # Le dictionnaire \"results\" contient plein d'infos et nous on garde la clé \"categories\" et la sous-clé \"items\".\n",
    "    # Le code stocke la liste des catégories dans la variable \"categories\".\n",
    "\n",
    "print(\"Quelle catégorie de podcast préférez-vous ?\")\n",
    "for i, category in enumerate(categories): #fonction \"enumerate\" : renvoie à chaque tour un compteur et un élément de la liste\n",
    "    print(f\"{i + 1}. {category['name']}\")\n",
    "    #affiche à chaque tour l'index de la catégorie + son nom, qui est accessible via la clé \"name\" du dictionnaire \"category\". \n",
    "\n",
    "category_index = int(input(\"Entrez le numéro correspondant à votre choix : \"))\n",
    "\n",
    "# problème : cela propose les catégories de musiques mais pas de podcast"
   ]
  },
  {
   "cell_type": "code",
   "execution_count": null,
   "id": "86773a9e",
   "metadata": {},
   "outputs": [],
   "source": []
  }
 ],
 "metadata": {
  "kernelspec": {
   "display_name": "Python 3 (ipykernel)",
   "language": "python",
   "name": "python3"
  },
  "language_info": {
   "codemirror_mode": {
    "name": "ipython",
    "version": 3
   },
   "file_extension": ".py",
   "mimetype": "text/x-python",
   "name": "python",
   "nbconvert_exporter": "python",
   "pygments_lexer": "ipython3",
   "version": "3.9.13"
  }
 },
 "nbformat": 4,
 "nbformat_minor": 5
}
